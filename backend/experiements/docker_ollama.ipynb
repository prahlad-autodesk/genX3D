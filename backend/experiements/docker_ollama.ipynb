{
 "cells": [
  {
   "cell_type": "code",
   "execution_count": 3,
   "id": "75c08f95",
   "metadata": {},
   "outputs": [
    {
     "name": "stdout",
     "output_type": "stream",
     "text": [
      "docker: Error response from daemon: Conflict. The container name \"/ollama\" is already in use by container \"0d4d869aa5f8efff554d5aa794b607fa5efc6462b624e677a26a67738def60a4\". You have to remove (or rename) that container to be able to reuse that name.\n",
      "\n",
      "Run 'docker run --help' for more information\n"
     ]
    }
   ],
   "source": [
    "!docker run -d \\\n",
    "  --name ollama \\\n",
    "  --gpus all \\\n",
    "  -e OLLAMA_HOST=0.0.0.0 \\\n",
    "  -p 11434:11434 \\\n",
    "  -v ollama_data:/root/.ollama \\\n",
    "  ollama/ollama\n"
   ]
  },
  {
   "cell_type": "code",
   "execution_count": 4,
   "id": "c61b6214",
   "metadata": {},
   "outputs": [
    {
     "name": "stdout",
     "output_type": "stream",
     "text": [
      "\u001b[1m\n",
      "What's next:\u001b[0m\n",
      "    Try Docker Debug for seamless, persistent debugging tools in any container or image → \u001b[36mdocker debug ollama\u001b[0m\n",
      "    Learn more at https://docs.docker.com/go/debug-cli/\n",
      "Error response from daemon: container 0d4d869aa5f8efff554d5aa794b607fa5efc6462b624e677a26a67738def60a4 is not running\n"
     ]
    }
   ],
   "source": [
    "!docker exec -it ollama ollama pull llama3:8b-q4\n"
   ]
  }
 ],
 "metadata": {
  "kernelspec": {
   "display_name": "generative_system_design",
   "language": "python",
   "name": "python3"
  },
  "language_info": {
   "codemirror_mode": {
    "name": "ipython",
    "version": 3
   },
   "file_extension": ".py",
   "mimetype": "text/x-python",
   "name": "python",
   "nbconvert_exporter": "python",
   "pygments_lexer": "ipython3",
   "version": "3.13.1"
  }
 },
 "nbformat": 4,
 "nbformat_minor": 5
}
