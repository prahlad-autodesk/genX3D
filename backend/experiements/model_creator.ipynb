{
 "cells": [
  {
   "cell_type": "code",
   "execution_count": 1,
   "metadata": {},
   "outputs": [],
   "source": [
    "import cadquery as cq\n",
    "\n",
    "# Parameters\n",
    "block_length = 100\n",
    "block_width = 60\n",
    "block_height = 10\n",
    "\n",
    "hole_diameter = 5\n",
    "hole_spacing_x = 15\n",
    "hole_spacing_y = 15\n",
    "holes_x = 5\n",
    "holes_y = 3\n",
    "\n",
    "# Create block\n",
    "block = cq.Workplane(\"XY\").box(block_length, block_width, block_height)\n",
    "\n",
    "# Add holes in grid\n",
    "for i in range(holes_x):\n",
    "    for j in range(holes_y):\n",
    "        x = -block_length / 2 + hole_spacing_x + i * hole_spacing_x\n",
    "        y = -block_width / 2 + hole_spacing_y + j * hole_spacing_y\n",
    "        block = block.faces(\">Z\").workplane().pushPoints([(x, y)]).hole(hole_diameter)\n",
    "\n",
    "# Export to STL\n",
    "cq.exporters.export(block, 'block_with_holes.stl')\n"
   ]
  },
  {
   "cell_type": "code",
   "execution_count": 2,
   "metadata": {},
   "outputs": [],
   "source": [
    "import cadquery as cq\n",
    "\n",
    "# Parameters\n",
    "block_length = 100\n",
    "block_width = 60\n",
    "block_height = 10\n",
    "\n",
    "hole_diameter = 5\n",
    "hole_spacing_x = 15\n",
    "hole_spacing_y = 15\n",
    "holes_x = 5\n",
    "holes_y = 3\n",
    "\n",
    "# Create block\n",
    "block = cq.Workplane(\"XY\").box(block_length, block_width, block_height)\n",
    "\n",
    "# Add holes in grid\n",
    "for i in range(holes_x):\n",
    "    for j in range(holes_y):\n",
    "        x = -block_length / 2 + hole_spacing_x + i * hole_spacing_x\n",
    "        y = -block_width / 2 + hole_spacing_y + j * hole_spacing_y\n",
    "        block = block.faces(\">Z\").workplane().pushPoints([(x, y)]).hole(hole_diameter)\n",
    "\n",
    "# Export to STEP\n",
    "cq.exporters.export(block, 'block_with_holes.step')\n"
   ]
  }
 ],
 "metadata": {
  "kernelspec": {
   "display_name": "debugenv",
   "language": "python",
   "name": "python3"
  },
  "language_info": {
   "codemirror_mode": {
    "name": "ipython",
    "version": 3
   },
   "file_extension": ".py",
   "mimetype": "text/x-python",
   "name": "python",
   "nbconvert_exporter": "python",
   "pygments_lexer": "ipython3",
   "version": "3.11.13"
  }
 },
 "nbformat": 4,
 "nbformat_minor": 2
}
